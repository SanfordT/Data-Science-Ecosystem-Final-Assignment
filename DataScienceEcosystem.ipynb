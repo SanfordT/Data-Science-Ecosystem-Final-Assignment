{
 "cells": [
  {
   "cell_type": "markdown",
   "id": "825a2931",
   "metadata": {},
   "source": [
    "# Data Science Tools and Ecosystem"
   ]
  },
  {
   "cell_type": "markdown",
   "id": "93ad7148",
   "metadata": {},
   "source": [
    "In this notebook, Data Science Tools and Ecosystem are summarized."
   ]
  },
  {
   "cell_type": "markdown",
   "id": "b201b7d6",
   "metadata": {},
   "source": [
    "**Objectives:**\n",
    "    \n",
    "    * List popular languages for Data Science\n",
    "    \n",
    "    * List commonly used libraries in Data Science\n",
    "    \n",
    "    * Create tables using the markdown function"
   ]
  },
  {
   "cell_type": "markdown",
   "id": "1d985acc",
   "metadata": {},
   "source": [
    "Some popular languages that Data Scientists use are:\n",
    "    \n",
    "    1. Python\n",
    "    2. R\n",
    "    3. SQL"
   ]
  },
  {
   "cell_type": "markdown",
   "id": "6a3629bf",
   "metadata": {},
   "source": [
    "Some of the commonly used libraries used by Data Scientists include:\n",
    "    \n",
    "    1. Pandas\n",
    "    2. NumPy\n",
    "    3. SciPy\n",
    "    4. Matplotlib"
   ]
  },
  {
   "cell_type": "markdown",
   "id": "9672b97b",
   "metadata": {},
   "source": [
    "|Data Science Tools|\n",
    "|------------------|\n",
    "|Jupyter|\n",
    "|RStudio|\n",
    "|Apache Zeppelin|"
   ]
  },
  {
   "cell_type": "markdown",
   "id": "f9945504",
   "metadata": {},
   "source": [
    "### Below are a few examples of evaluating arithmetic expressions in Python."
   ]
  },
  {
   "cell_type": "code",
   "execution_count": 12,
   "id": "3fb5e1d5",
   "metadata": {},
   "outputs": [
    {
     "data": {
      "text/plain": [
       "'This is a simple arithmetic expression to multipy then add integers.'"
      ]
     },
     "execution_count": 12,
     "metadata": {},
     "output_type": "execute_result"
    }
   ],
   "source": [
    "\"This is a simple arithmetic expression to multipy then add integers.\""
   ]
  },
  {
   "cell_type": "code",
   "execution_count": 10,
   "id": "6aa7a1b6",
   "metadata": {},
   "outputs": [
    {
     "data": {
      "text/plain": [
       "17"
      ]
     },
     "execution_count": 10,
     "metadata": {},
     "output_type": "execute_result"
    }
   ],
   "source": [
    "(3*4)+5"
   ]
  },
  {
   "cell_type": "code",
   "execution_count": 13,
   "id": "953b9412",
   "metadata": {},
   "outputs": [
    {
     "data": {
      "text/plain": [
       "'This will convert 200 minutes to hours by dividing by 60'"
      ]
     },
     "execution_count": 13,
     "metadata": {},
     "output_type": "execute_result"
    }
   ],
   "source": [
    "\"This will convert 200 minutes to hours by dividing by 60\""
   ]
  },
  {
   "cell_type": "code",
   "execution_count": 14,
   "id": "14a12173",
   "metadata": {},
   "outputs": [
    {
     "data": {
      "text/plain": [
       "3.3333333333333335"
      ]
     },
     "execution_count": 14,
     "metadata": {},
     "output_type": "execute_result"
    }
   ],
   "source": [
    "200/60"
   ]
  },
  {
   "cell_type": "markdown",
   "id": "8ae9e67e",
   "metadata": {},
   "source": [
    "## Author\n",
    "\n",
    "Toye L. Sanford"
   ]
  },
  {
   "cell_type": "code",
   "execution_count": null,
   "id": "462c6c93",
   "metadata": {},
   "outputs": [],
   "source": []
  }
 ],
 "metadata": {
  "kernelspec": {
   "display_name": "Python 3 (ipykernel)",
   "language": "python",
   "name": "python3"
  },
  "language_info": {
   "codemirror_mode": {
    "name": "ipython",
    "version": 3
   },
   "file_extension": ".py",
   "mimetype": "text/x-python",
   "name": "python",
   "nbconvert_exporter": "python",
   "pygments_lexer": "ipython3",
   "version": "3.11.5"
  }
 },
 "nbformat": 4,
 "nbformat_minor": 5
}
